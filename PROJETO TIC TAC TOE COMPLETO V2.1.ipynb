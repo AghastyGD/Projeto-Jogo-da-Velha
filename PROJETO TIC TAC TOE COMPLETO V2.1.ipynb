{
 "cells": [
  {
   "cell_type": "code",
   "execution_count": 1,
   "id": "6d681a05",
   "metadata": {},
   "outputs": [],
   "source": [
    "from IPython.display import clear_output\n",
    "def display_board (board):\n",
    "    \n",
    "    clear_output()\n",
    "    print ('   |   |   ')\n",
    "    print (' '+board[7]+' | ' +board[8]+' | '+board[9])\n",
    "    print ('   |   |   ')\n",
    "    print ('--------------')\n",
    "    print ('   |   |   ')\n",
    "    print (' '+board[4]+' | ' +board[5]+' | '+board[6])\n",
    "    print ('   |   |   ')\n",
    "    print ('--------------')\n",
    "    print ('   |   |   ')\n",
    "    print (' '+board[1]+' | ' +board[2]+' | '+board[3])\n",
    "    print ('   |   |   ')"
   ]
  },
  {
   "cell_type": "code",
   "execution_count": 2,
   "id": "ce273a22",
   "metadata": {},
   "outputs": [],
   "source": [
    "def player_input():\n",
    "   \n",
    "    \n",
    "    marker = ' '\n",
    "    while not (marker == 'X' or marker == 'O'):\n",
    "        marker = input('Player 1: Você quer ser X ou O?').upper()\n",
    "        \n",
    "    if marker == 'X':\n",
    "        return ('X', 'O')\n",
    "    else:\n",
    "        return ('O', 'X')"
   ]
  },
  {
   "cell_type": "code",
   "execution_count": 3,
   "id": "449f19aa",
   "metadata": {},
   "outputs": [],
   "source": [
    "def place_marker(board, marker, position):\n",
    "    board[position] = marker"
   ]
  },
  {
   "cell_type": "code",
   "execution_count": 4,
   "id": "1dc5539e",
   "metadata": {},
   "outputs": [],
   "source": [
    "def win_check(board, mark):\n",
    "    return ((board[7] == mark and board[8] == mark and board[9] == mark) or #Condição de Vitória pelo topo\n",
    "    (board[4] == mark and board[5] == mark and board[6] == mark) or #Pelo Meio\n",
    "    (board[1] == mark and board[2] == mark and board[3] == mark) or #Por Baixo\n",
    "    (board[7] == mark and board[4] == mark and board[1] == mark) or #Pelo Lado Esquerdo\n",
    "    (board[8] == mark and board[5] == mark and board[2] == mark) or #Pelo Centro\n",
    "    (board[9] == mark and board[6] == mark and board[3] == mark) or #Pelo lado direito\n",
    "    (board[7] == mark and board[5] == mark and board[3] == mark) or #Diagonal\n",
    "    (board[9] == mark and board[5] == mark and board[1] == mark)) #Diagonal"
   ]
  },
  {
   "cell_type": "code",
   "execution_count": 5,
   "id": "83ab7b70",
   "metadata": {},
   "outputs": [],
   "source": [
    "## NB: Esse código é opcional, ele serve apenas para retornar a condição dos Jogadores aleatoriarmente!\n",
    "## Ex: Se o Player 1 escolher X, o Jogador Nr 2 automaticamente usará 'O' e se tornará o primeiro a jogar.\n",
    "\n",
    "import random\n",
    "def choose_first():\n",
    "    if random.randint(0, 1) == 0:\n",
    "        return 'Player 2'\n",
    "    else:\n",
    "        return 'Player 1'"
   ]
  },
  {
   "cell_type": "code",
   "execution_count": 6,
   "id": "e3294b08",
   "metadata": {},
   "outputs": [],
   "source": [
    "def space_check(board, position):\n",
    "    \n",
    "    return board[position] == ' '"
   ]
  },
  {
   "cell_type": "code",
   "execution_count": 7,
   "id": "43964ca9",
   "metadata": {},
   "outputs": [],
   "source": [
    "def space_check(board, position2):\n",
    "    \n",
    "    return board[position2] == ' '"
   ]
  },
  {
   "cell_type": "code",
   "execution_count": 8,
   "id": "0d4007dc",
   "metadata": {},
   "outputs": [],
   "source": [
    "def full_board_check(board):\n",
    "    for i in range(0,10):\n",
    "        if space_check(board, i):\n",
    "            return False\n",
    "        \n",
    "    return True"
   ]
  },
  {
   "cell_type": "code",
   "execution_count": 9,
   "id": "108c2624",
   "metadata": {},
   "outputs": [],
   "source": [
    "def player_choice(board):\n",
    "    position = ' '\n",
    "    \n",
    "    while position not in '1 2 3 4 5 6 7 8 9'.split() or not space_check(board, int(position)):\n",
    "        position = input('Escolha sua jogada (1-9) JOGADOR NR 1 ')\n",
    "    \n",
    "    return int(position)"
   ]
  },
  {
   "cell_type": "code",
   "execution_count": 10,
   "id": "814365fc",
   "metadata": {},
   "outputs": [],
   "source": [
    "def player_choice2(board):\n",
    "    position2 = ' '\n",
    "    \n",
    "    while position2 not in '1 2 3 4 5 6 7 8 9'.split() or not space_check(board, int(position2)):\n",
    "        position2 = input('Escolha sua jogada (1-9) JOGADOR NR 2 ')\n",
    "    \n",
    "    return int(position2)"
   ]
  },
  {
   "cell_type": "code",
   "execution_count": 11,
   "id": "19f117bb",
   "metadata": {},
   "outputs": [],
   "source": [
    "def replay():\n",
    "    \n",
    "    return input('Quer jogar novamente? \"SIM\" ou \"NÃO\"').lower().startswith('s')"
   ]
  },
  {
   "cell_type": "code",
   "execution_count": null,
   "id": "1e832e2f",
   "metadata": {},
   "outputs": [
    {
     "name": "stdout",
     "output_type": "stream",
     "text": [
      "   |   |   \n",
      "   |   |  \n",
      "   |   |   \n",
      "--------------\n",
      "   |   |   \n",
      "   |   | O\n",
      "   |   |   \n",
      "--------------\n",
      "   |   |   \n",
      " X |   |  \n",
      "   |   |   \n"
     ]
    }
   ],
   "source": [
    "print('Bem Vindo ao Jogo da Velha ')\n",
    "nome1 = input('Digite o seu nome JOGADOR NR 1 ')\n",
    "nome2 = input('Digite o seu nome JOGADOR NR 2 ')\n",
    "              \n",
    "while True:\n",
    "    # Defina o jogo\n",
    "    #pass\n",
    "    board = [' '] * 10\n",
    "    player1_marker, player2_marker = player_input()\n",
    "    turn = choose_first()\n",
    "    print(turn+' começa!')\n",
    "    \n",
    "    game_on = True\n",
    "    \n",
    "    while game_on:\n",
    "        #Vez do Jogador 1\n",
    "        if turn == 'Player 1':\n",
    "            display_board(board)\n",
    "            position = player_choice(board)\n",
    "            place_marker(board, player1_marker, position)\n",
    "        \n",
    "        # Checa a vitória\n",
    "        if win_check(board, player1_marker):\n",
    "            display_board(board)\n",
    "            print('Parabéns',nome1.upper(),'Você venceu!')\n",
    "            game_on = False\n",
    "        else:\n",
    "            if full_board_check(board):\n",
    "                display_board(board)\n",
    "                print('Empate!')\n",
    "                break\n",
    "            else:\n",
    "                turn = 'Player 2'\n",
    "                \n",
    "        #Vez do Jogador 2\n",
    "        if turn == 'Player 2':\n",
    "            display_board(board)\n",
    "            position = player_choice2(board)\n",
    "            place_marker(board, player2_marker, position)\n",
    "        \n",
    "        # Checa a vitória\n",
    "        if win_check(board, player2_marker):\n",
    "            display_board(board)\n",
    "            print('Parabéns',nome2.upper(),'Você venceu!')\n",
    "            game_on = False\n",
    "        else:\n",
    "            if full_board_check(board):\n",
    "                display_board(board)\n",
    "                print('Empate!')\n",
    "                break\n",
    "            else:\n",
    "                turn = 'Player 1'\n",
    "                \n",
    "    if not replay():\n",
    "        break"
   ]
  },
  {
   "cell_type": "code",
   "execution_count": null,
   "id": "2911bdbe",
   "metadata": {},
   "outputs": [],
   "source": []
  }
 ],
 "metadata": {
  "kernelspec": {
   "display_name": "Python 3 (ipykernel)",
   "language": "python",
   "name": "python3"
  },
  "language_info": {
   "codemirror_mode": {
    "name": "ipython",
    "version": 3
   },
   "file_extension": ".py",
   "mimetype": "text/x-python",
   "name": "python",
   "nbconvert_exporter": "python",
   "pygments_lexer": "ipython3",
   "version": "3.7.6"
  }
 },
 "nbformat": 4,
 "nbformat_minor": 5
}
